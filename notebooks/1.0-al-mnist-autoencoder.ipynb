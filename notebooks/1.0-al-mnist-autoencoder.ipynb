{
 "cells": [
  {
   "cell_type": "markdown",
   "id": "6e431f76",
   "metadata": {},
   "source": [
    "# Variational autoencoder on an MNIST dataset"
   ]
  },
  {
   "cell_type": "markdown",
   "id": "ec63e23c",
   "metadata": {},
   "source": [
    "## General setup"
   ]
  },
  {
   "cell_type": "code",
   "execution_count": 1,
   "id": "0eb9313e",
   "metadata": {},
   "outputs": [],
   "source": [
    "# import libraries\n",
    "import torch\n",
    "import numpy as np\n",
    "import torch.nn as nn\n",
    "import torch.nn.functional as F"
   ]
  },
  {
   "cell_type": "code",
   "execution_count": 2,
   "id": "d44a9bf5",
   "metadata": {},
   "outputs": [],
   "source": [
    "# The MNIST datasets are hosted on yann.lecun.com that has moved under CloudFlare protection\n",
    "# Run this script to enable the datasets download\n",
    "# Reference: https://github.com/pytorch/vision/issues/1938\n",
    "\n",
    "from six.moves import urllib\n",
    "opener = urllib.request.build_opener()\n",
    "opener.addheaders = [('User-agent', 'Mozilla/5.0')]\n",
    "urllib.request.install_opener(opener)"
   ]
  },
  {
   "cell_type": "code",
   "execution_count": 3,
   "id": "b94134e1",
   "metadata": {},
   "outputs": [
    {
     "name": "stdout",
     "output_type": "stream",
     "text": [
      "Training on GPU!\n"
     ]
    }
   ],
   "source": [
    "# check if GPU is available\n",
    "train_on_gpu = torch.cuda.is_available()\n",
    "#train_on_gpu = False\n",
    "if(train_on_gpu):\n",
    "    print('Training on GPU!')\n",
    "else: \n",
    "    print('No GPU available, training on CPU.')"
   ]
  },
  {
   "cell_type": "markdown",
   "id": "65bc8cd1",
   "metadata": {},
   "source": [
    "## Download and create data loaders"
   ]
  },
  {
   "cell_type": "code",
   "execution_count": 4,
   "id": "b5784390",
   "metadata": {},
   "outputs": [
    {
     "name": "stderr",
     "output_type": "stream",
     "text": [
      "c:\\users\\aurelijus\\appdata\\local\\programs\\python\\python38\\lib\\site-packages\\torchvision\\datasets\\mnist.py:498: UserWarning: The given NumPy array is not writeable, and PyTorch does not support non-writeable tensors. This means you can write to the underlying (supposedly non-writeable) NumPy array using the tensor. You may want to copy the array to protect its data or make it writeable before converting it to a tensor. This type of warning will be suppressed for the rest of this program. (Triggered internally at  ..\\torch\\csrc\\utils\\tensor_numpy.cpp:180.)\n",
      "  return torch.from_numpy(parsed.astype(m[2], copy=False)).view(*s)\n"
     ]
    }
   ],
   "source": [
    "from torchvision import datasets\n",
    "import torchvision.transforms as transforms\n",
    "from torch.utils.data.sampler import SubsetRandomSampler\n",
    "\n",
    "# number of subprocesses to use for data loading\n",
    "num_workers = 0\n",
    "# how many samples per batch to load\n",
    "batch_size = 20\n",
    "# percentage of training set to use as validation\n",
    "valid_size = 0.2\n",
    "\n",
    "# convert data to torch.FloatTensor\n",
    "transform = transforms.ToTensor()\n",
    "\n",
    "# choose the training and test datasets\n",
    "train_data = datasets.MNIST(root='..\\data\\\\raw', train=True,\n",
    "                                   download=True, transform=transform)\n",
    "test_data = datasets.MNIST(root='..\\data\\\\raw', train=False,\n",
    "                                  download=True, transform=transform)\n",
    "\n",
    "# obtain training indices that will be used for validation\n",
    "num_train = len(train_data)\n",
    "indices = list(range(num_train))\n",
    "np.random.shuffle(indices)\n",
    "split = int(np.floor(valid_size * num_train))\n",
    "train_idx, valid_idx = indices[split:], indices[:split]\n",
    "\n",
    "# define samplers for obtaining training and validation batches\n",
    "train_sampler = SubsetRandomSampler(train_idx)\n",
    "valid_sampler = SubsetRandomSampler(valid_idx)\n",
    "\n",
    "# prepare data loaders\n",
    "train_loader = torch.utils.data.DataLoader(train_data, batch_size=batch_size,\n",
    "    sampler=train_sampler, num_workers=num_workers)\n",
    "valid_loader = torch.utils.data.DataLoader(train_data, batch_size=batch_size, \n",
    "    sampler=valid_sampler, num_workers=num_workers)\n",
    "test_loader = torch.utils.data.DataLoader(test_data, batch_size=batch_size, \n",
    "    num_workers=num_workers)"
   ]
  },
  {
   "cell_type": "markdown",
   "id": "150e5f23",
   "metadata": {},
   "source": [
    "## Visually check if everything is loaded correctly"
   ]
  },
  {
   "cell_type": "code",
   "execution_count": 5,
   "id": "bad769c5",
   "metadata": {},
   "outputs": [
    {
     "name": "stderr",
     "output_type": "stream",
     "text": [
      "<ipython-input-5-731dd270b2c2>:12: MatplotlibDeprecationWarning: Passing non-integers as three-element position specification is deprecated since 3.3 and will be removed two minor releases later.\n",
      "  ax = fig.add_subplot(2, 20/2, idx+1, xticks=[], yticks=[])\n"
     ]
    },
    {
     "data": {
      "image/png": "[encoded data removed]",
      "text/plain": [
       "<Figure size 1800x288 with 20 Axes>"
      ]
     },
     "metadata": {},
     "output_type": "display_data"
    }
   ],
   "source": [
    "import matplotlib.pyplot as plt\n",
    "%matplotlib inline\n",
    "    \n",
    "# obtain one batch of training images\n",
    "dataiter = iter(train_loader)\n",
    "images, labels = dataiter.next()\n",
    "images = images.numpy()\n",
    "\n",
    "# plot the images in the batch, along with the corresponding labels\n",
    "fig = plt.figure(figsize=(25, 4))\n",
    "for idx in np.arange(20):\n",
    "    ax = fig.add_subplot(2, 20/2, idx+1, xticks=[], yticks=[])\n",
    "    ax.imshow(np.squeeze(images[idx]), cmap='gray')\n",
    "    # print out the correct label for each image\n",
    "    # .item() gets the value contained in a Tensor\n",
    "    ax.set_title(str(labels[idx].item()))"
   ]
  },
  {
   "cell_type": "markdown",
   "id": "134e3267",
   "metadata": {},
   "source": [
    "## Define the model class"
   ]
  },
  {
   "cell_type": "code",
   "execution_count": 6,
   "id": "0190a086",
   "metadata": {},
   "outputs": [
    {
     "name": "stdout",
     "output_type": "stream",
     "text": [
      "VAE(\n",
      "  (fc1): Linear(in_features=784, out_features=512, bias=True)\n",
      "  (fc2): Linear(in_features=512, out_features=256, bias=True)\n",
      "  (hidden2mu): Linear(in_features=256, out_features=2, bias=True)\n",
      "  (hidden2log_var): Linear(in_features=256, out_features=2, bias=True)\n",
      "  (fc3): Linear(in_features=2, out_features=256, bias=True)\n",
      "  (fc4): Linear(in_features=256, out_features=512, bias=True)\n",
      "  (fc5): Linear(in_features=512, out_features=784, bias=True)\n",
      "  (ReLU): ReLU()\n",
      "  (sigmoid): Sigmoid()\n",
      ")\n"
     ]
    }
   ],
   "source": [
    "import torch.nn as nn\n",
    "import torch.nn.functional as F\n",
    "\n",
    "# define the NN architecture\n",
    "class VAE(nn.Module):\n",
    "    def __init__(self):\n",
    "        super(VAE, self).__init__()\n",
    "        \n",
    "        # Network architecture\n",
    "        fc1Size = 512\n",
    "        fc2Size = 256\n",
    "        self.hidden_size = 2\n",
    "        \n",
    "        #Encoder\n",
    "        self.fc1 = nn.Linear(28*28, fc1Size)\n",
    "        self.fc2 = nn.Linear(fc1Size, fc2Size)\n",
    "        \n",
    "        #Latent space\n",
    "        self.hidden2mu = nn.Linear(fc2Size, self.hidden_size)\n",
    "        self.hidden2log_var = nn.Linear(fc2Size, self.hidden_size)\n",
    "        \n",
    "        #Decoder\n",
    "        self.fc3 = nn.Linear(self.hidden_size, fc2Size)\n",
    "        self.fc4 = nn.Linear(fc2Size, fc1Size)\n",
    "\n",
    "        self.fc5 = nn.Linear(fc1Size, 28*28)\n",
    "        \n",
    "        #functions\n",
    "        self.ReLU = nn.ReLU()\n",
    "        self.sigmoid = nn.Sigmoid()\n",
    "        \n",
    "    def encoder(self,x):\n",
    "        x = self.ReLU(self.fc1(x))\n",
    "        x = self.ReLU(self.fc2(x))\n",
    "        \n",
    "        mu, log_var = self.hidden2mu(x), self.hidden2log_var(x)\n",
    "        return mu, log_var\n",
    "    \n",
    "    def reparametrize(self, mu, log_var):\n",
    "        # Reparametrization Trick to allow gradients to backpropagate from the\n",
    "        # stochastic part of the model\n",
    "        sigma = torch.exp(0.5*log_var)\n",
    "        z = torch.randn_like(sigma)\n",
    "        return mu + sigma*z\n",
    "    \n",
    "    def decoder(self,x):\n",
    "        x = self.ReLU(self.fc3(x))\n",
    "        x = self.ReLU(self.fc4(x))\n",
    "        \n",
    "        x = self.sigmoid(self.fc5(x))\n",
    "        x = torch.clamp(x, min=0.0, max=1.0)\n",
    "        return x\n",
    "\n",
    "    def forward(self,x):\n",
    "        batch_size = x.size(0)\n",
    "        x = x.view(batch_size, 28 * 28)\n",
    "        \n",
    "        mu, log_var = self.encoder(x) \n",
    "        x = self.reparametrize(mu, log_var)\n",
    "        x = self.decoder(x)  \n",
    "        return mu, log_var, x\n",
    "\n",
    "model = VAE()\n",
    "if(train_on_gpu):\n",
    "        model.cuda()\n",
    "print(model)"
   ]
  },
  {
   "cell_type": "markdown",
   "id": "aabae6d2",
   "metadata": {},
   "source": [
    "## Define the optimization parameters\n",
    "\n",
    "note: Binary cross entropy loss works a lot better than mean square error loss in this particular case"
   ]
  },
  {
   "cell_type": "code",
   "execution_count": 7,
   "id": "56d60f26",
   "metadata": {},
   "outputs": [],
   "source": [
    "# Loss function\n",
    "#criterion = nn.MSELoss()\n",
    "criterion = nn.BCELoss(reduction='sum')\n",
    "\n",
    "# Optimizer\n",
    "optimizer = torch.optim.Adam(model.parameters(), lr=0.01, amsgrad = True)"
   ]
  },
  {
   "cell_type": "code",
   "execution_count": 8,
   "id": "e7b18cd9",
   "metadata": {},
   "outputs": [],
   "source": [
    "def loss_function(output, data, mu, log_var, alpha):\n",
    "    #Reconstruction error + KL-divergence error\n",
    "    \n",
    "    # KL-divergence error\n",
    "    kl_loss = (-0.5*(1+log_var - mu**2 -\n",
    "        torch.exp(log_var)).sum(dim=1)).mean(dim=0)\n",
    "    # Reconstruction loss\n",
    "    recon_loss = criterion(output, data.view(batch_size, 28*28))\n",
    "    # Total model loss\n",
    "    loss = recon_loss*alpha + kl_loss\n",
    "    \n",
    "    return loss"
   ]
  },
  {
   "cell_type": "markdown",
   "id": "1aca0a51",
   "metadata": {},
   "source": [
    "## Model training cycle"
   ]
  },
  {
   "cell_type": "code",
   "execution_count": 9,
   "id": "2c0b8727",
   "metadata": {},
   "outputs": [
    {
     "name": "stdout",
     "output_type": "stream",
     "text": [
      "Epoch: 1 \tTraining Loss: 3230.251894 \tValidation Loss: 3130.625444\n",
      "Validation loss decreased (inf --> 3130.625444).  Saving model ...\n",
      "Epoch: 2 \tTraining Loss: 3085.078835 \tValidation Loss: 3042.901707\n",
      "Validation loss decreased (3130.625444 --> 3042.901707).  Saving model ...\n",
      "Epoch: 3 \tTraining Loss: 3024.148326 \tValidation Loss: 2991.838892\n",
      "Validation loss decreased (3042.901707 --> 2991.838892).  Saving model ...\n",
      "Epoch: 4 \tTraining Loss: 3045.391818 \tValidation Loss: 3036.021208\n",
      "Epoch: 5 \tTraining Loss: 2999.136106 \tValidation Loss: 3065.055618\n",
      "Epoch: 6 \tTraining Loss: 2996.112549 \tValidation Loss: 2956.436623\n",
      "Validation loss decreased (2991.838892 --> 2956.436623).  Saving model ...\n",
      "Epoch: 7 \tTraining Loss: 2981.207425 \tValidation Loss: 2971.008638\n",
      "Epoch: 8 \tTraining Loss: 2952.320036 \tValidation Loss: 2948.564464\n",
      "Validation loss decreased (2956.436623 --> 2948.564464).  Saving model ...\n",
      "Epoch: 9 \tTraining Loss: 2970.028575 \tValidation Loss: 2957.585682\n",
      "Epoch: 10 \tTraining Loss: 2961.072757 \tValidation Loss: 2989.065562\n"
     ]
    }
   ],
   "source": [
    "# number of epochs to train the model\n",
    "n_epochs = 10\n",
    "\n",
    "# initialize tracker for minimum validation loss\n",
    "valid_loss_min = np.Inf # set initial \"min\" to infinity\n",
    "\n",
    "alpha = 1 #Reconstruction loss multiplier (Higher values prioritise reconstruction loss over KL-divergence error)\n",
    "\n",
    "for epoch in range(n_epochs):\n",
    "    # monitor training loss\n",
    "    train_loss = 0.0\n",
    "    valid_loss = 0.0\n",
    "    \n",
    "    ###################\n",
    "    # train the model #\n",
    "    ###################\n",
    "    model.train() # prep model for training\n",
    "    for data, target in train_loader:\n",
    "        if(train_on_gpu):\n",
    "            data = data.cuda()\n",
    "            \n",
    "        # clear the gradients of all optimized variables\n",
    "        optimizer.zero_grad()\n",
    "        # forward pass: compute predicted outputs by passing inputs to the model\n",
    "        mu, log_var, output = model(data)\n",
    "        #Calculate training loss\n",
    "        loss = loss_function(output, data, mu, log_var, alpha)\n",
    "        # backward pass: compute gradient of the loss with respect to model parameters\n",
    "        loss.backward()\n",
    "        # perform a single optimization step (parameter update)\n",
    "        optimizer.step()\n",
    "        # update running training loss\n",
    "        train_loss += loss.item()\n",
    "        \n",
    "    ######################    \n",
    "    # validate the model #\n",
    "    ######################\n",
    "    model.eval() # prep model for evaluation\n",
    "    for data, target in valid_loader:\n",
    "        if(train_on_gpu):\n",
    "            data = data.cuda()\n",
    "        # forward pass: compute predicted outputs by passing inputs to the model\n",
    "        mu, log_var, output = model(data)\n",
    "        #Calculate validation loss\n",
    "        loss = loss_function(output, data, mu, log_var, alpha)        \n",
    "        # update running validation loss \n",
    "        valid_loss += loss.item()\n",
    "        \n",
    "    # print training/validation statistics \n",
    "    # calculate average loss over an epoch\n",
    "    train_loss = train_loss/len(train_loader)\n",
    "    valid_loss = valid_loss/len(valid_loader)\n",
    "    \n",
    "    print('Epoch: {} \\tTraining Loss: {:.6f} \\tValidation Loss: {:.6f}'.format(\n",
    "        epoch+1, \n",
    "        train_loss,\n",
    "        valid_loss\n",
    "        ))\n",
    "    \n",
    "    # save model if validation loss has decreased\n",
    "    if valid_loss <= valid_loss_min:\n",
    "        print('Validation loss decreased ({:.6f} --> {:.6f}).  Saving model ...'.format(\n",
    "        valid_loss_min,\n",
    "        valid_loss))\n",
    "        torch.save(model.state_dict(), 'model.pt')\n",
    "        valid_loss_min = valid_loss"
   ]
  },
  {
   "cell_type": "markdown",
   "id": "273ab011",
   "metadata": {},
   "source": [
    "##  Load the model with the lowest validation loss"
   ]
  },
  {
   "cell_type": "code",
   "execution_count": 71,
   "id": "76209127",
   "metadata": {},
   "outputs": [
    {
     "data": {
      "text/plain": [
       "<All keys matched successfully>"
      ]
     },
     "execution_count": 71,
     "metadata": {},
     "output_type": "execute_result"
    }
   ],
   "source": [
    "model.load_state_dict(torch.load('model.pt'))"
   ]
  },
  {
   "cell_type": "markdown",
   "id": "03d37488",
   "metadata": {},
   "source": [
    "## Check how the autoencoder handles test data"
   ]
  },
  {
   "cell_type": "code",
   "execution_count": 10,
   "id": "056a7a89",
   "metadata": {},
   "outputs": [
    {
     "data": {
      "text/plain": [
       "VAE(\n",
       "  (fc1): Linear(in_features=784, out_features=512, bias=True)\n",
       "  (fc2): Linear(in_features=512, out_features=256, bias=True)\n",
       "  (hidden2mu): Linear(in_features=256, out_features=2, bias=True)\n",
       "  (hidden2log_var): Linear(in_features=256, out_features=2, bias=True)\n",
       "  (fc3): Linear(in_features=2, out_features=256, bias=True)\n",
       "  (fc4): Linear(in_features=256, out_features=512, bias=True)\n",
       "  (fc5): Linear(in_features=512, out_features=784, bias=True)\n",
       "  (ReLU): ReLU()\n",
       "  (sigmoid): Sigmoid()\n",
       ")"
      ]
     },
     "execution_count": 10,
     "metadata": {},
     "output_type": "execute_result"
    },
    {
     "data": {
      "image/png": "[encoded data removed]",
      "text/plain": [
       "<Figure size 1800x288 with 20 Axes>"
      ]
     },
     "metadata": {
      "needs_background": "light"
     },
     "output_type": "display_data"
    }
   ],
   "source": [
    "model.cpu()\n",
    "\n",
    "# obtain one batch of test images\n",
    "dataiter = iter(test_loader)\n",
    "images, labels = dataiter.next()\n",
    "\n",
    "test = images\n",
    "\n",
    "images_flatten = images.view(images.size(0), -1)\n",
    "# get sample outputs\n",
    "mu, log_var, output = model(images_flatten)\n",
    "# prep images for display\n",
    "images = images.numpy()\n",
    "\n",
    "# output is resized into a batch of images\n",
    "output = output.view(batch_size, 1, 28, 28)\n",
    "# use detach when it's an output that requires_grad\n",
    "output = output.detach().numpy()\n",
    "\n",
    "# plot the first ten input images and then reconstructed images\n",
    "fig, axes = plt.subplots(nrows=2, ncols=10, sharex=True, sharey=True, figsize=(25,4))\n",
    "\n",
    "# input images on top row, reconstructions on bottom\n",
    "for images, row in zip([images, output], axes):\n",
    "    for img, ax in zip(images, row):\n",
    "        ax.imshow(np.squeeze(img), cmap='gray')\n",
    "        ax.get_xaxis().set_visible(False)\n",
    "        ax.get_yaxis().set_visible(False)\n",
    "model.cuda()"
   ]
  },
  {
   "cell_type": "markdown",
   "id": "c2e0a5e1",
   "metadata": {},
   "source": [
    "## Generate completely new data\n",
    "\n",
    "By choosing a random vector in model's latent space (the autoencoder bottleneck) we can generate new data based on the training set."
   ]
  },
  {
   "cell_type": "code",
   "execution_count": 11,
   "id": "99e1f28c",
   "metadata": {},
   "outputs": [
    {
     "data": {
      "image/png": "[encoded data removed]",
      "text/plain": [
       "<Figure size 432x288 with 1 Axes>"
      ]
     },
     "metadata": {
      "needs_background": "light"
     },
     "output_type": "display_data"
    }
   ],
   "source": [
    "from torchvision.utils import save_image, make_grid\n",
    "#with torch.no_grad():\n",
    "z = torch.randn(64, model.hidden_size).cuda()\n",
    "sample = model.decoder(z).cuda()\n",
    "sample.view(64, 1, 28, 28)\n",
    "    \n",
    "save_image(sample.view(64, 1, 28, 28), 'D:/Gits/MNIST_VAE/notebooks/sample2' + '.png')\n",
    "\n",
    "sample = sample.cpu()\n",
    "def imshow(img):\n",
    "    img = img / 2 + 0.5 # unnormalize\n",
    "    npimg = img.numpy()\n",
    "    plt.imshow(np.transpose(npimg, (1, 2, 0)))\n",
    "    plt.show()\n",
    "\n",
    "imshow(make_grid(sample.view(64, 1, 28, 28)))"
   ]
  },
  {
   "cell_type": "code",
   "execution_count": null,
   "id": "80886606",
   "metadata": {},
   "outputs": [],
   "source": []
  }
 ],
 "metadata": {
  "kernelspec": {
   "display_name": "Python 3",
   "language": "python",
   "name": "python3"
  },
  "language_info": {
   "codemirror_mode": {
    "name": "ipython",
    "version": 3
   },
   "file_extension": ".py",
   "mimetype": "text/x-python",
   "name": "python",
   "nbconvert_exporter": "python",
   "pygments_lexer": "ipython3",
   "version": "3.8.8"
  }
 },
 "nbformat": 4,
 "nbformat_minor": 5
}
